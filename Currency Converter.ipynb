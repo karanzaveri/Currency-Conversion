{
 "cells": [
  {
   "cell_type": "markdown",
   "id": "a24820c9",
   "metadata": {},
   "source": [
    "## Installing Libraries"
   ]
  },
  {
   "cell_type": "code",
   "execution_count": 1,
   "id": "d744bf2d",
   "metadata": {},
   "outputs": [],
   "source": [
    "#pip install forex_python\n",
    "#pip install tkinter"
   ]
  },
  {
   "cell_type": "markdown",
   "id": "aeddc8c3",
   "metadata": {},
   "source": [
    "## Importing Libraries"
   ]
  },
  {
   "cell_type": "code",
   "execution_count": 2,
   "id": "bec8e4ed",
   "metadata": {},
   "outputs": [],
   "source": [
    "import tkinter as tk\n",
    "from tkinter import messagebox\n",
    "from tkinter import ttk\n",
    "from forex_python.converter import CurrencyRates, RatesNotAvailableError\n",
    "import pandas as pd"
   ]
  },
  {
   "cell_type": "markdown",
   "id": "c15dcee1",
   "metadata": {},
   "source": [
    "## Get the list of Available Currencies"
   ]
  },
  {
   "cell_type": "code",
   "execution_count": 3,
   "id": "a86707ea",
   "metadata": {},
   "outputs": [],
   "source": [
    "def get_available_currencies():\n",
    "    source_currency = source_currency_entry.get().upper()\n",
    "    try:\n",
    "        global available_currencies_with_rates\n",
    "        available_currencies_with_rates = currency_rates.get_rates(source_currency)\n",
    "        available_currencies = list(available_currencies_with_rates.keys())\n",
    "        available_currencies_text.delete(1.0, tk.END)\n",
    "        available_currencies_text.insert(tk.END, \", \".join(available_currencies))\n",
    "    except RatesNotAvailableError:\n",
    "        messagebox.showerror(\"Error\", f\"Sorry, the currency rates for \\\"{source_currency}\\\" are not available at the moment.\")\n",
    "        \n",
    "def on_source_currency_entry_change(event):\n",
    "    if source_currency_entry.get():\n",
    "        get_currencies_button.config(state=tk.NORMAL)\n",
    "    else:\n",
    "        get_currencies_button.config(state=tk.DISABLED)"
   ]
  },
  {
   "cell_type": "markdown",
   "id": "cdc8781f",
   "metadata": {},
   "source": [
    "## Currency Conversion"
   ]
  },
  {
   "cell_type": "code",
   "execution_count": 4,
   "id": "56a039c5",
   "metadata": {},
   "outputs": [],
   "source": [
    "def convert_currency():\n",
    "    target_currency = target_currency_entry.get().upper()\n",
    "    amount = amount_entry.get()\n",
    "    \n",
    "    if not amount.replace('.', '', 1).isdigit():\n",
    "        messagebox.showerror(\"Error\", \"Please enter a valid numeric value for the amount!\")\n",
    "        return\n",
    "    \n",
    "    amount = float(amount)\n",
    "    \n",
    "    if (target_currency.upper() == source_currency_entry.get().upper()):\n",
    "        messagebox.showerror(\"Error\", \"The target currency and the source currency are same.\")\n",
    "        return\n",
    "        \n",
    "    elif target_currency.upper() not in [c.upper() for c in available_currencies_with_rates.keys()]:\n",
    "        messagebox.showerror(\"Error\", \"Sorry, the specified target currency is not available for conversion.\")\n",
    "        return\n",
    "    \n",
    "    converted_amount = currency_rates.convert(source_currency_entry.get().upper(), target_currency, amount)\n",
    "    rate_applied = available_currencies_with_rates[target_currency]\n",
    "    \n",
    "    messagebox.showinfo(\"Conversion Result\", f\"{amount} {source_currency_entry.get().upper()} is equal to {converted_amount:.2f} {target_currency}\\nExchange rate applied: 1 {source_currency_entry.get().upper()} = {rate_applied:.4f} {target_currency}\")"
   ]
  },
  {
   "cell_type": "markdown",
   "id": "dc89cf9d",
   "metadata": {},
   "source": [
    "## GUI Interface"
   ]
  },
  {
   "cell_type": "code",
   "execution_count": 9,
   "id": "bd52d082",
   "metadata": {},
   "outputs": [],
   "source": [
    "root = tk.Tk()\n",
    "root.title(\"Currency Converter\")\n",
    "\n",
    "currency_rates = CurrencyRates()\n",
    "available_currencies_with_rates = {}\n",
    "\n",
    "source_currency_label = tk.Label(root, text=\"Enter Source Currency:\")\n",
    "source_currency_label.pack()\n",
    "\n",
    "source_currency_entry = tk.Entry(root)\n",
    "source_currency_entry.pack()\n",
    "source_currency_entry.bind('<KeyRelease>', on_source_currency_entry_change)\n",
    "\n",
    "get_currencies_button = tk.Button(root, text=\"Get Available Currencies\", command=get_available_currencies, state=tk.DISABLED)\n",
    "get_currencies_button.pack()\n",
    "\n",
    "available_currencies_label = tk.Label(root, text=\"Available Currencies:\")\n",
    "available_currencies_label.pack()\n",
    "\n",
    "available_currencies_text = tk.Text(root, height=5, width=30)\n",
    "available_currencies_text.pack()\n",
    "\n",
    "target_currency_label = tk.Label(root, text=\"Enter Target Currency:\")\n",
    "target_currency_label.pack()\n",
    "\n",
    "target_currency_entry = tk.Entry(root)\n",
    "target_currency_entry.pack()\n",
    "\n",
    "amount_label = tk.Label(root, text=\"Enter Amount:\")\n",
    "amount_label.pack()\n",
    "\n",
    "amount_entry = tk.Entry(root)\n",
    "amount_entry.pack()\n",
    "\n",
    "convert_button = tk.Button(root, text=\"Convert\", command=convert_currency)\n",
    "convert_button.pack()\n",
    "\n",
    "root.mainloop()"
   ]
  },
  {
   "cell_type": "code",
   "execution_count": null,
   "id": "f01245a8",
   "metadata": {},
   "outputs": [],
   "source": []
  }
 ],
 "metadata": {
  "kernelspec": {
   "display_name": "Python 3 (ipykernel)",
   "language": "python",
   "name": "python3"
  },
  "language_info": {
   "codemirror_mode": {
    "name": "ipython",
    "version": 3
   },
   "file_extension": ".py",
   "mimetype": "text/x-python",
   "name": "python",
   "nbconvert_exporter": "python",
   "pygments_lexer": "ipython3",
   "version": "3.9.13"
  }
 },
 "nbformat": 4,
 "nbformat_minor": 5
}
