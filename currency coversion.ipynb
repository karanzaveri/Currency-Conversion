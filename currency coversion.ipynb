{
 "cells": [
  {
   "cell_type": "markdown",
   "id": "1ff353dd",
   "metadata": {},
   "source": [
    "# Currency Conversion"
   ]
  },
  {
   "cell_type": "markdown",
   "id": "91b55953",
   "metadata": {},
   "source": [
    "## Import Libraries"
   ]
  },
  {
   "cell_type": "code",
   "execution_count": 1,
   "id": "a1f14855",
   "metadata": {},
   "outputs": [],
   "source": [
    "import re\n",
    "import requests\n",
    "from tkinter import *\n",
    "import tkinter as tk\n",
    "from tkinter import ttk\n",
    "from datetime import datetime"
   ]
  },
  {
   "cell_type": "markdown",
   "id": "44cf9b96",
   "metadata": {},
   "source": [
    "## Real Time Currency Coversion"
   ]
  },
  {
   "cell_type": "code",
   "execution_count": 2,
   "id": "9258418e",
   "metadata": {},
   "outputs": [],
   "source": [
    "class RealTimeCurrencyConverter():\n",
    "    def __init__(self, url):\n",
    "        self.data = requests.get(url).json()\n",
    "        self.currencies = self.data['rates']\n",
    "\n",
    "    def convert(self, from_currency, to_currency, amount): \n",
    "        initial_amount = amount \n",
    "        if from_currency != 'USD':\n",
    "            amount = amount / self.currencies[from_currency]\n",
    "\n",
    "        # limiting the precision to 4 decimal places \n",
    "        amount = round(amount * self.currencies[to_currency], 4) \n",
    "        return amount"
   ]
  },
  {
   "cell_type": "markdown",
   "id": "551eea59",
   "metadata": {},
   "source": [
    "## Transaction History"
   ]
  },
  {
   "cell_type": "code",
   "execution_count": 3,
   "id": "0383f8ae",
   "metadata": {},
   "outputs": [],
   "source": [
    "class HistoryPage(tk.Toplevel):\n",
    "    def __init__(self, master, history):\n",
    "        tk.Toplevel.__init__(self, master)\n",
    "        self.title(\"Transaction History\")\n",
    "        self.geometry(\"400x200\")\n",
    "\n",
    "        self.history_label = Label(self, text=\"Transaction History\", font=('Courier', 15, 'bold'))\n",
    "        self.history_label.pack(pady=10)\n",
    "\n",
    "        for entry in history:\n",
    "            history_entry_label = Label(self, text=entry, font=('Courier', 10))\n",
    "            history_entry_label.pack()"
   ]
  },
  {
   "cell_type": "markdown",
   "id": "279973ed",
   "metadata": {},
   "source": [
    "## GUI"
   ]
  },
  {
   "cell_type": "code",
   "execution_count": 4,
   "id": "2f79089b",
   "metadata": {},
   "outputs": [],
   "source": [
    "class App(tk.Tk):\n",
    "    def __init__(self, converter):\n",
    "        tk.Tk.__init__(self)\n",
    "        self.title('Currency Converter')\n",
    "        self.currency_converter = converter\n",
    "\n",
    "        # Responsive columns\n",
    "        self.columnconfigure(0, weight=1)\n",
    "        self.columnconfigure(1, weight=1)\n",
    "        self.columnconfigure(2, weight=1)\n",
    "        self.columnconfigure(3, weight=1)\n",
    "\n",
    "        self.geometry(\"600x200\")\n",
    "\n",
    "        self.intro_label = Label(self, text='Welcome to Real Time Currency Converter', fg='blue', relief=tk.RAISED, borderwidth=3)\n",
    "        self.intro_label.config(font=('Courier', 15, 'bold'))\n",
    "\n",
    "        self.date_label = Label(self, text=f\"1 Indian Rupee equals = {self.currency_converter.convert('INR','USD',1)} USD \\n Date : {self.currency_converter.data['date']}\", relief=tk.GROOVE, borderwidth=5)\n",
    "\n",
    "        self.intro_label.grid(row=0, column=0, columnspan=4, pady=10, sticky='nsew')\n",
    "        self.date_label.grid(row=1, column=1, columnspan=2, sticky='nsew')\n",
    "\n",
    "        self.name_label = Label(self, text=\"Enter Your Name:\", font=('Courier', 10))\n",
    "        self.name_entry = Entry(self, bd=3, relief=tk.RIDGE, justify=tk.CENTER)\n",
    "        self.name_label.grid(row=2, column=0, padx=10, pady=10, sticky='nsew')\n",
    "        self.name_entry.grid(row=2, column=1, padx=10, pady=10, sticky='nsew')\n",
    "\n",
    "        valid = (self.register(self.restrictNumberOnly), '%d', '%P')\n",
    "        self.amount_field = Entry(self, bd=3, relief=tk.RIDGE, justify=tk.CENTER, validate='key', validatecommand=valid)\n",
    "        self.converted_amount_field_label = Label(self, text='', fg='black', bg='white', relief=tk.RIDGE, justify=tk.CENTER, width=17, borderwidth=3)\n",
    "\n",
    "        self.from_currency_variable = StringVar(self)\n",
    "        self.from_currency_variable.set(\"INR\")\n",
    "        self.to_currency_variable = StringVar(self)\n",
    "        self.to_currency_variable.set(\"USD\")\n",
    "\n",
    "        font = (\"Courier\", 12, \"bold\")\n",
    "        self.option_add('*TCombobox*Listbox.font', font)\n",
    "        self.from_currency_dropdown = ttk.Combobox(self, textvariable=self.from_currency_variable, values=list(self.currency_converter.currencies.keys()), font=font, state='readonly', justify=tk.CENTER)\n",
    "        self.to_currency_dropdown = ttk.Combobox(self, textvariable=self.to_currency_variable, values=list(self.currency_converter.currencies.keys()), font=font, state='readonly', justify=tk.CENTER)\n",
    "\n",
    "        self.from_currency_dropdown.grid(row=3, column=0, padx=10, pady=10, sticky='nsew')\n",
    "        self.amount_field.grid(row=3, column=1, padx=10, pady=10, sticky='nsew')\n",
    "        self.to_currency_dropdown.grid(row=3, column=2, padx=10, pady=10, sticky='nsew')\n",
    "        self.converted_amount_field_label.grid(row=3, column=3, padx=10, pady=10, sticky='nsew')\n",
    "\n",
    "        self.convert_button = Button(self, text=\"Convert\", fg=\"black\", command=self.perform)\n",
    "        self.convert_button.config(font=('Courier', 10, 'bold'))\n",
    "        self.convert_button.grid(row=4, column=1, columnspan=2, pady=10, sticky='nsew')\n",
    "\n",
    "        self.history_button = Button(self, text=\"Transaction History\", fg=\"black\", command=self.show_transaction_history)\n",
    "        self.history_button.config(font=('Courier', 10, 'bold'))\n",
    "        self.history_button.grid(row=5, column=1, columnspan=2, pady=10, sticky='nsew')\n",
    "\n",
    "        # Responsive rows\n",
    "        for i in range(6):\n",
    "            self.rowconfigure(i, weight=1)\n",
    "\n",
    "    def perform(self):\n",
    "        amount = float(self.amount_field.get())\n",
    "        from_curr = self.from_currency_variable.get()\n",
    "        to_curr = self.to_currency_variable.get()\n",
    "\n",
    "        converted_amount = self.currency_converter.convert(from_curr, to_curr, amount)\n",
    "        converted_amount = round(converted_amount, 2)\n",
    "\n",
    "        self.converted_amount_field_label.config(text=str(converted_amount))\n",
    "\n",
    "        # Get user's name\n",
    "        user_name = self.name_entry.get()\n",
    "\n",
    "        # Update history and display\n",
    "        self.update_history(user_name, from_curr, to_curr, amount, converted_amount)\n",
    "\n",
    "    def restrictNumberOnly(self, action, string):\n",
    "        regex = re.compile(r\"[0-9,]*?(\\.)?[0-9,]*$\")\n",
    "        result = regex.match(string)\n",
    "        return (string == \"\" or (string.count('.') <= 1 and result is not None))\n",
    "\n",
    "    def update_history(self, user_name, from_curr, to_curr, amount, converted_amount):\n",
    "        history_entry = f\"{datetime.now().strftime('%Y-%m-%d %H:%M:%S')} - {user_name}: {amount} {from_curr} to {converted_amount} {to_curr}\"\n",
    "\n",
    "        if hasattr(self, 'history'):\n",
    "            self.history.insert(0, history_entry)\n",
    "            self.history = self.history[:10]\n",
    "        else:\n",
    "            self.history = [history_entry]\n",
    "\n",
    "    def show_transaction_history(self):\n",
    "        HistoryPage(self, self.history)"
   ]
  },
  {
   "cell_type": "code",
   "execution_count": 5,
   "id": "62d20bff",
   "metadata": {},
   "outputs": [],
   "source": [
    "if __name__ == '__main__':\n",
    "    url = 'https://api.exchangerate-api.com/v4/latest/USD'\n",
    "    converter = RealTimeCurrencyConverter(url)\n",
    "    app = App(converter)\n",
    "    app.mainloop()"
   ]
  }
 ],
 "metadata": {
  "kernelspec": {
   "display_name": "Python 3 (ipykernel)",
   "language": "python",
   "name": "python3"
  },
  "language_info": {
   "codemirror_mode": {
    "name": "ipython",
    "version": 3
   },
   "file_extension": ".py",
   "mimetype": "text/x-python",
   "name": "python",
   "nbconvert_exporter": "python",
   "pygments_lexer": "ipython3",
   "version": "3.9.13"
  }
 },
 "nbformat": 4,
 "nbformat_minor": 5
}
